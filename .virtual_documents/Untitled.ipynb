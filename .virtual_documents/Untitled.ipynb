


import seaborn as sns
import numpy as np


sns.set_theme(style='dark')



x = np.array([0,45,60,90,180,360])


y= np.sin(x)


sns.lineplot(x=x,y=y)


# basic plot types in seaborn   


import seaborn as sns
import matplotlib.pyplot as plt

print(sns.get_dataset_names())


# line plot example 

tips = sns.load_dataset('tips')

sns.lineplot(x="total_bill", y="tip", data=tips,color='red',linewidth=1)
plt.title('Line Plot Example')
plt.show()



# scatter plot example 

sns.scatterplot(x="total_bill", y="tip", data=tips,hue='time',s=100)
plt.title('Scatter Plot with Color by Time')
plt.show()


# bar plot example

sns.barplot(x="day", y="total_bill", data=tips)
plt.title('Average Bill per Day')
plt.show()


# box plot example

sns.boxplot(x="day", y="total_bill", data=tips)
plt.title('Boxplot of Total Bill per Day')
plt.show()


flights = sns.load_dataset('flights')


flights


pv = flights.pivot(index='year',columns='month',values='passengers')


pv


sns.heatmap(pv ,fmt='d', cmap='cool',annot=True)
plt.xticks(fontsize=12)



import pandas as pd

df = pd.DataFrame({
    "age": [22, 25, 47, 52, 46, 56, 55, 60, 34, 43],
    "salary": [25000, 27000, 52000, 60000, 58000, 62000, 61000, 65000, 38000, 45000],
    "gender": ["M", "F", "M", "F", "F", "M", "M", "F", "F", "M"]
})

sns.scatterplot(x="age", y="salary", hue="gender", data=df)
plt.title('Salary vs Age Scatter Plot')
plt.show()


import pandas as pd
import seaborn as sns
import matplotlib.pyplot as plt

df = pd.DataFrame({
    "age": [22, 25, 47, 52, 46, 56, 55, 60, 34, 43],
    "salary": [25000, 27000, 52000, 60000, 58000, 62000, 61000, 65000, 38000, 45000],
    "gender": ["M", "F", "M", "F", "F", "M", "M", "F", "F", "M"]
})

# Correlation matrix banayein (only numerical columns)
corr = df[["age", "salary"]].corr()

# Heatmap plot karein
sns.heatmap(corr, annot=True, cmap='coolwarm')
plt.title('Correlation Heatmap of Age and Salary')
plt.show()



import pandas as pd
import seaborn as sns
import matplotlib.pyplot as plt

df = pd.DataFrame({
    "age": [22, 25, 47, 52, 46, 56, 55, 60, 34, 43],
    "salary": [25000, 27000, 52000, 60000, 58000, 62000, 61000, 65000, 38000, 45000],
    "gender": ["M", "F", "M", "F", "F", "M", "M", "F", "F", "M"]
})

# Gender ke respect me average nikalna
grouped = df.groupby("gender")[["age", "salary"]].mean().round(2)

# Heatmap banana
sns.heatmap(grouped, annot=True, cmap='YlGnBu')
plt.title('Average Age and Salary by Gender')
plt.show()



















