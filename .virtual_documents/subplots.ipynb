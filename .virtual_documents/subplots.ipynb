import matplotlib.pyplot as plt

# Data
x = [1, 2, 3, 4, 5]
y1 = [i * 2 for i in x]
y2 = [i ** 2 for i in x]

# Create a figure with 1 row and 2 columns
plt.subplot(1, 2, 1)  # (rows, cols, plot_no)
plt.plot(x, y1)
plt.title('Double of x')

plt.subplot(1, 2, 2)
plt.plot(x, y2)
plt.title('Square of x')
plt.ylabel('square of no')

plt.tight_layout()
plt.show()


# More variations of x
y3 = [i ** 0.5 for i in x]
y4 = [10 - i for i in x]

plt.figure(figsize=(8, 6))  # Optional: make it bigger

plt.subplot(2, 2, 1)
plt.plot(x, y1)
plt.title('x * 2')

plt.subplot(2, 2, 2)
plt.plot(x, y2)
plt.title('x squared')

plt.subplot(2, 2, 3)
plt.plot(x, y3)
plt.title('sqrt(x)')

plt.subplot(2, 2, 4)
plt.plot(x, y4)
plt.title('10 - x')

plt.tight_layout()
plt.show()


fig, axs = plt.subplots(1, 2, figsize=(10, 6))    # 

axs[0].plot(x, y1)
axs[0].set_title('x * 2',fontsize=18)

axs[1].plot(x, y2)
axs[1].set_title('x squared',fontsize=18)
axs[1].set_ylabel('value',fontsize=16)
axs[1].set_xticks(x)
axs[1].set_xticklabels(x, rotation=45,fontsize=10)
 
fig.suptitle('Simple Comparison Plots', fontsize=20)
fig.tight_layout()
fig.subplots_adjust(top=0.85)  # So title doesn't overlap
fig.savefig('my_plots.png')    # Save as image

plt.show()


# important( note ) :   ----- subplots(1,4) or (4,1) is 1 d array so axs is from [0] to [3]


import matplotlib.pyplot as plt

x = [1, 2, 3, 4, 5, 6, 7, 8, 9, 10]

# Operations on x
y1 = [i * 2 for i in x]          # Multiplication
y2 = [i ** 2 for i in x]         # Square
y3 = [i ** 0.5 for i in x]       # Square root
y4 = [i % 3 for i in x]          # Modulo operation
y5 = [i + 5 for i in x]          # Addition


fig, axs = plt.subplots(2,3, figsize=(10,6))

axs[0,0].plot(x,y1)
axs[0,0].set_title('x*2',fontsize=16)

axs[0,1].plot(x,y2)
axs[0,1].set_title('sqr of x',fontsize=16)

axs[0,2].plot(x,y3)
axs[0,2].set_title('sq_root of x',fontsize=16)

axs[1,0].plot(x,y4)
axs[1,0].set_title('modulo op on x',fontsize=16)

axs[1,1].plot(x,y5)
axs[1,1].set_title('add on x',fontsize=16)

# Hide any extra unused subplots
axs[1, 2].set_visible(False)

fig.tight_layout()
fig.suptitle('comparison plots',fontsize=20)
fig.subplots_adjust(top=0.85) 



